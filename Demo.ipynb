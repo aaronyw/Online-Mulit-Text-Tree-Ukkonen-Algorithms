{
 "cells": [
  {
   "cell_type": "code",
   "execution_count": 7,
   "metadata": {},
   "outputs": [],
   "source": [
    "from MultiTextTree.MultiTextTree import Multxtree\n",
    "\n",
    "def search(T, s):\n",
    "    sr = T.search(s)  # please refer to inline comments\n",
    "    for i in sr:\n",
    "        r = T.extractxt(i, ((len(s)), sr[i]))  # please refer to inline comments\n",
    "        print(i, ('|' + s + '|').join(r))\n"
   ]
  },
  {
   "cell_type": "code",
   "execution_count": 9,
   "metadata": {
    "pycharm": {
     "name": "#%%\n"
    }
   },
   "outputs": [
    {
     "name": "stdout",
     "output_type": "stream",
     "text": [
      "Build a radix tree:\n",
      "Insert text 'abc', search text 'abc'\n",
      "1 |abc|\n",
      "Insert text 'abx', search text 'abc'\n",
      "1 |abc|\n",
      "Insert text 'abcd', search text 'abc'\n",
      "1 |abc|\n",
      "3 |abc|d\n"
     ]
    }
   ],
   "source": [
    "print('Build a radix tree:')\n",
    "RadixTree = Multxtree(False)  # Radix Tree for prefix search only\n",
    "print(\"Insert text 'abc', search text 'abc'\")\n",
    "RadixTree.read('abc')\n",
    "search(RadixTree, 'abc')\n",
    "print(\"Insert text 'abx', search text 'abc'\")\n",
    "RadixTree.read('abx')\n",
    "search(RadixTree, 'abc')\n",
    "print(\"Insert text 'abcd', search text 'abc'\")\n",
    "RadixTree.read('abcd')\n",
    "search(RadixTree, 'abc')"
   ]
  },
  {
   "cell_type": "code",
   "execution_count": 10,
   "metadata": {
    "pycharm": {
     "name": "#%%\n"
    }
   },
   "outputs": [
    {
     "name": "stdout",
     "output_type": "stream",
     "text": [
      "Display tree structure and texts stored\n",
      "\n",
      "NODE 0 \n",
      "|___ 0 edge a: 0->2\t[ab] \t==> node 1\n",
      "|    |\n",
      "|    NODE 1 \n",
      "|    |___ 1 edge c: 2->3\t[c] \t==> node 2\n",
      "|    |    |\n",
      "|    |    NODE 2 \n",
      "|    |    |___ 2 edge 𐀁: 3->None\t[𐀁abx𐀂abcd𐀃] \n",
      "|    |    |___ 2 edge d: 11->None\t[d𐀃] \n",
      "|    |    |___ end of node 2\n",
      "|    |    \n",
      "|    |___ 1 edge x: 6->None\t[x𐀂abcd𐀃] \n",
      "|    |___ end of node 1\n",
      "|    \n",
      "|___ end of node 0\n"
     ]
    },
    {
     "data": {
      "text/plain": [
       "'abc𐀁abx𐀂abcd𐀃'"
      ]
     },
     "execution_count": 10,
     "metadata": {},
     "output_type": "execute_result"
    }
   ],
   "source": [
    "print(\"Display tree structure and texts stored\")\n",
    "RadixTree.tree.display()\n",
    "RadixTree.tree.text"
   ]
  },
  {
   "cell_type": "code",
   "execution_count": 11,
   "metadata": {
    "pycharm": {
     "name": "#%%\n"
    }
   },
   "outputs": [
    {
     "name": "stdout",
     "output_type": "stream",
     "text": [
      "Build a suffix tree:\n",
      "Insert text 'abc', search text 'bc'\n",
      "1 a|bc|\n",
      "Insert text 'abx', search text 'bc'\n",
      "1 a|bc|\n",
      "Insert text 'abcd', search text 'bc'\n",
      "1 a|bc|\n",
      "3 a|bc|d\n"
     ]
    }
   ],
   "source": [
    "print('Build a suffix tree:')\n",
    "SuffixTree =  Multxtree()  # suffix tree using Ukkonen's Algorithms\n",
    "print(\"Insert text 'abc', search text 'bc'\")\n",
    "SuffixTree.read('abc')\n",
    "search(SuffixTree, 'bc')\n",
    "print(\"Insert text 'abx', search text 'bc'\")\n",
    "SuffixTree.read('abx')\n",
    "search(SuffixTree, 'bc')\n",
    "print(\"Insert text 'abcd', search text 'bc'\")\n",
    "SuffixTree.read('abcd')\n",
    "search(SuffixTree, 'bc')"
   ]
  },
  {
   "cell_type": "code",
   "execution_count": 12,
   "metadata": {
    "pycharm": {
     "name": "#%%\n"
    }
   },
   "outputs": [
    {
     "name": "stdout",
     "output_type": "stream",
     "text": [
      "Display tree structure and texts stored\n",
      "\n",
      "NODE 0 \n",
      "|___ 0 edge a: 0->2\t[ab] \t==> node 1\n",
      "|    |\n",
      "|    NODE 1 \t------> node 2\n",
      "|    |___ 1 edge c: 2->3\t[c] \t==> node 3\n",
      "|    |    |\n",
      "|    |    NODE 3 \t------> node 4\n",
      "|    |    |___ 3 edge 𐀁: 3->None\t[𐀁abx𐀂abcd𐀃] \n",
      "|    |    |___ 3 edge d: 11->None\t[d𐀃] \n",
      "|    |    |___ end of node 3\n",
      "|    |    \n",
      "|    |___ 1 edge x: 6->None\t[x𐀂abcd𐀃] \n",
      "|    |___ end of node 1\n",
      "|    \n",
      "|___ 0 edge b: 1->2\t[b] \t==> node 2\n",
      "|    |\n",
      "|    NODE 2 \n",
      "|    |___ 2 edge c: 2->3\t[c] \t==> node 4\n",
      "|    |    |\n",
      "|    |    NODE 4 \t------> node 5\n",
      "|    |    |___ 4 edge 𐀁: 3->None\t[𐀁abx𐀂abcd𐀃] \n",
      "|    |    |___ 4 edge d: 11->None\t[d𐀃] \n",
      "|    |    |___ end of node 4\n",
      "|    |    \n",
      "|    |___ 2 edge x: 6->None\t[x𐀂abcd𐀃] \n",
      "|    |___ end of node 2\n",
      "|    \n",
      "|___ 0 edge c: 2->3\t[c] \t==> node 5\n",
      "|    |\n",
      "|    NODE 5 \n",
      "|    |___ 5 edge 𐀁: 3->None\t[𐀁abx𐀂abcd𐀃] \n",
      "|    |___ 5 edge d: 11->None\t[d𐀃] \n",
      "|    |___ end of node 5\n",
      "|    \n",
      "|___ 0 edge 𐀁: 3->None\t[𐀁abx𐀂abcd𐀃] \n",
      "|___ 0 edge x: 6->None\t[x𐀂abcd𐀃] \n",
      "|___ 0 edge 𐀂: 7->None\t[𐀂abcd𐀃] \n",
      "|___ 0 edge d: 11->None\t[d𐀃] \n",
      "|___ 0 edge 𐀃: 12->None\t[𐀃] \n",
      "|___ end of node 0\n"
     ]
    },
    {
     "data": {
      "text/plain": [
       "'abc𐀁abx𐀂abcd𐀃'"
      ]
     },
     "execution_count": 12,
     "metadata": {},
     "output_type": "execute_result"
    }
   ],
   "source": [
    "print(\"Display tree structure and texts stored\")\n",
    "SuffixTree.tree.display()\n",
    "SuffixTree.tree.text"
   ]
  }
 ],
 "metadata": {
  "kernelspec": {
   "display_name": "Python 3",
   "language": "python",
   "name": "python3"
  },
  "language_info": {
   "codemirror_mode": {
    "name": "ipython",
    "version": 3
   },
   "file_extension": ".py",
   "mimetype": "text/x-python",
   "name": "python",
   "nbconvert_exporter": "python",
   "pygments_lexer": "ipython3",
   "version": "3.7.7"
  }
 },
 "nbformat": 4,
 "nbformat_minor": 1
}
